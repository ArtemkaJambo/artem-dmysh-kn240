{
 "cells": [
  {
   "cell_type": "markdown",
   "metadata": {},
   "source": [
    "Генерація випадкових масивів та статистичні закони розподілу\n",
    "\n",
    "import numpy as np\n",
    "\n",
    "def homework(message):\n",
    "    print(\"\\n>>>>>\", message, \"\\n\")\n",
    "\n",
    "# Задаємо вручну масив\n",
    "C = np.array([[0.45053314, 0.17296777, 0.34376245, 0.5510652],\n",
    "              [0.54627315, 0.05093587, 0.40067661, 0.55645993],\n",
    "              [0.12697628, 0.82485143, 0.26590556, 0.56917101]])\n",
    "\n",
    "homework(f\"Масив {C.shape} можна задавати вручну:\\n{C}\")\n",
    "\n",
    "# Генерація випадкових даних\n",
    "rng = np.random.default_rng()\n",
    "C = rng.random((3, 4))\n",
    "homework(f\"Можна згенерувати випадковий масив такої ж розмірності {C.shape}:\\n{C}\")\n",
    "\n",
    "# Генерація випадкових даних з фіксованим значенням seed\n",
    "rng = np.random.default_rng(seed=10)\n",
    "C = rng.random((3, 4))\n",
    "homework(f\"Для того щоб згенерований масив {C.shape} мав завжди однакові значення, використовуємо параметр seed:\\n{C}\")\n",
    "\n",
    "# Генерація масиву цілих чисел\n",
    "I = rng.integers(0, 10, size=(3, 4), endpoint=True)\n",
    "homework(f\"Можемо оперувати цілими числами (задаючи мінімум і максимум):\\n{I}\")\n",
    "\n",
    "# Статистичні характеристики\n",
    "mean_C = np.mean(C)\n",
    "median_C = np.median(C)\n",
    "std_C = np.std(C)\n",
    "min_C = np.min(C)\n",
    "max_C = np.max(C)\n",
    "corr_C = np.corrcoef(C)\n",
    "\n",
    "homework(f\"Статистичні характеристики для масиву C:\")\n",
    "print(f\"Середнє значення: {mean_C}\")\n",
    "print(f\"Медіана: {median_C}\")\n",
    "print(f\"Стандартне відхилення: {std_C}\")\n",
    "print(f\"Мінімальне значення: {min_C}, Максимальне значення: {max_C}\")\n",
    "print(f\"Кореляція між стовпцями масиву C:\\n{corr_C}\")\n"
   ]
  },
  {
   "cell_type": "markdown",
   "metadata": {},
   "source": []
  }
 ],
 "metadata": {
  "language_info": {
   "name": "python"
  }
 },
 "nbformat": 4,
 "nbformat_minor": 2
}
