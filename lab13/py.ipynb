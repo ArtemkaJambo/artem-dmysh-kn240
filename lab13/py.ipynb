{
 "cells": [
  {
   "cell_type": "markdown",
   "metadata": {},
   "source": [
    "import numpy as np\n",
    "import matplotlib.pyplot as plt\n",
    "from scipy.optimize import linprog\n",
    "\n",
    "# Встановлюємо бюджет\n",
    "B = 100  # золотих\n",
    "\n",
    "# Створюємо сітку для 2 змінних x1 і x2\n",
    "x1 = np.arange(0, 20)\n",
    "x2 = np.arange(0, 20)\n",
    "x1, x2 = np.meshgrid(x1, x2)\n",
    "\n",
    "# Обчислюємо значення x3 на площині обмежень\n",
    "x3 = (B - 8*x1 - 7*x2) / 12\n",
    "\n",
    "# Візуалізація площини обмежень\n",
    "fig = plt.figure()\n",
    "ax = fig.add_subplot(111, projection='3d')\n",
    "ax.plot_surface(x1, x2, x3, alpha=0.5)\n",
    "ax.set_xlabel('x1')\n",
    "ax.set_ylabel('x2')\n",
    "ax.set_zlabel('x3')\n",
    "plt.title(\"Площина обмежень\")\n",
    "\n",
    "# Візуалізація можливих рішень для x3 = 0 та x2 = 0\n",
    "x1_vals = np.linspace(0, 20, 100)\n",
    "x21 = (B - 8*x1_vals) / 7  # x3 = 0\n",
    "x31 = (B - 8*x1_vals) / 12 # x2 = 0\n",
    "\n",
    "plt.fill_between(x1_vals, x21, 0, where=x21 >= 0, alpha=0.2, color='red')\n",
    "plt.fill_between(x1_vals, x31, 0, where=x31 >= 0, alpha=0.2, color='blue')\n",
    "\n",
    "plt.show()\n",
    "\n",
    "# Лінійне програмування для знаходження оптимального рішення\n",
    "c = np.array([10, 7, 5])  # Прибуток від кожного предмета\n",
    "A = np.array([[8, 7, 12]])  # Коєфіцієнти обмеження\n",
    "b = np.array([B])  # Бюджет\n",
    "bnd = [(0, None), (0, None), (0, None)]  # Обмеження на кількість предметів (не від'ємні)\n",
    "\n",
    "# Розв'язок задачі лінійного програмування\n",
    "res = linprog(-c, A_ub=A, b_ub=b, bounds=bnd)\n",
    "\n",
    "if res.success:\n",
    "    x1, x2, x3 = res.x\n",
    "    profit = -res.fun  # Прибуток\n",
    "    print(f\"Кількість предмету 1: {x1:.2f}\")\n",
    "    print(f\"Кількість предмету 2: {x2:.2f}\")\n",
    "    print(f\"Кількість предмету 3: {x3:.2f}\")\n",
    "    print(f\"Загальний прибуток: {profit:.2f} золотих\")\n",
    "else:\n",
    "    print(\"Не вдалося знайти розв'язок.\")\n"
   ]
  }
 ],
 "metadata": {
  "language_info": {
   "name": "python"
  }
 },
 "nbformat": 4,
 "nbformat_minor": 2
}
