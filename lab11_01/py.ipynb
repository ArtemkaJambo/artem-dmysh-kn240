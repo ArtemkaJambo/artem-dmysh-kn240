{
 "cells": [
  {
   "cell_type": "markdown",
   "metadata": {},
   "source": [
    "Структуровані масиви даних\n",
    "\n",
    "import numpy as np\n",
    "\n",
    "# Функція для виведення повідомлень\n",
    "def homework(message):\n",
    "    print(\"\\n>>>>>\", message, \"\\n\")\n",
    "\n",
    "# 1. Створення різних масивів numpy\n",
    "homework(\"Створюємо одновимірний масив numpy\")\n",
    "array_1d = np.array([1, 2, 3, 4, 5])\n",
    "print(\"Одновимірний масив:\\n\", array_1d)\n",
    "\n",
    "homework(\"Створюємо двовимірний масив numpy\")\n",
    "array_2d = np.array([[1, 2, 3], [4, 5, 6], [7, 8, 9]])\n",
    "print(\"Двовимірний масив:\\n\", array_2d)\n",
    "\n",
    "homework(\"Створюємо тривимірний масив numpy\")\n",
    "array_3d = np.array([[[1, 2], [3, 4]], [[5, 6], [7, 8]]])\n",
    "print(\"Тривимірний масив:\\n\", array_3d)\n",
    "\n",
    "# 2. Збереження масивів у файли\n",
    "homework(\"Зберігаємо масиви в файли\")\n",
    "\n",
    "# Збереження масиву у файл .npy\n",
    "np.save('array_1d.npy', array_1d)\n",
    "np.save('array_2d.npy', array_2d)\n",
    "np.save('array_3d.npy', array_3d)\n",
    "\n",
    "homework(\"Масиви збережено у файли\")\n",
    "\n",
    "# 3. Зчитування масивів з файлів\n",
    "homework(\"Зчитуємо масиви з файлів\")\n",
    "\n",
    "# Завантаження масивів\n",
    "loaded_array_1d = np.load('array_1d.npy')\n",
    "loaded_array_2d = np.load('array_2d.npy')\n",
    "loaded_array_3d = np.load('array_3d.npy')\n",
    "\n",
    "# Виведення зчитаних масивів\n",
    "print(\"Зчитаний одновимірний масив:\\n\", loaded_array_1d)\n",
    "print(\"Зчитаний двовимірний масив:\\n\", loaded_array_2d)\n",
    "print(\"Зчитаний тривимірний масив:\\n\", loaded_array_3d)\n"
   ]
  }
 ],
 "metadata": {
  "language_info": {
   "name": "python"
  }
 },
 "nbformat": 4,
 "nbformat_minor": 2
}
